{
 "cells": [
  {
   "cell_type": "code",
   "execution_count": 1,
   "id": "cbb53c45",
   "metadata": {},
   "outputs": [
    {
     "ename": "ModuleNotFoundError",
     "evalue": "No module named 'pandas'",
     "output_type": "error",
     "traceback": [
      "\u001b[1;31m---------------------------------------------------------------------------\u001b[0m",
      "\u001b[1;31mModuleNotFoundError\u001b[0m                       Traceback (most recent call last)",
      "Cell \u001b[1;32mIn[1], line 1\u001b[0m\n\u001b[1;32m----> 1\u001b[0m \u001b[38;5;28;01mimport\u001b[39;00m \u001b[38;5;21;01mpandas\u001b[39;00m \u001b[38;5;28;01mas\u001b[39;00m \u001b[38;5;21;01mpd\u001b[39;00m\n\u001b[0;32m      2\u001b[0m \u001b[38;5;28;01mimport\u001b[39;00m \u001b[38;5;21;01mmatplotlib\u001b[39;00m\u001b[38;5;21;01m.\u001b[39;00m\u001b[38;5;21;01mpyplot\u001b[39;00m \u001b[38;5;28;01mas\u001b[39;00m \u001b[38;5;21;01mplt\u001b[39;00m\n\u001b[0;32m      3\u001b[0m \u001b[38;5;28;01mimport\u001b[39;00m \u001b[38;5;21;01mseaborn\u001b[39;00m \u001b[38;5;28;01mas\u001b[39;00m \u001b[38;5;21;01msns\u001b[39;00m\n",
      "\u001b[1;31mModuleNotFoundError\u001b[0m: No module named 'pandas'"
     ]
    }
   ],
   "source": [
    "import pandas as pd\n",
    "import matplotlib.pyplot as plt\n",
    "import seaborn as sns"
   ]
  },
  {
   "cell_type": "code",
   "execution_count": null,
   "id": "347a1f92",
   "metadata": {},
   "outputs": [],
   "source": [
    "\n",
    "# Caricamento del dataset\n",
    "df = pd.read_csv(\"monthly_ae_activity_202504.csv\")\n",
    "\n",
    "# Info generali\n",
    "print(\"INFO GENERALI:\\n\")\n",
    "print(df.info())\n",
    "print(\"\\n---\\n\")\n",
    "\n",
    "# Missing values\n",
    "print(\"MISSING VALUES:\\n\")\n",
    "print(df.isnull().sum())\n",
    "print(\"\\n---\\n\")\n",
    "\n",
    "# Statistiche descrittive numeriche\n",
    "print(\"STATISTICHE DESCRITTIVE:\\n\")\n",
    "print(df.describe())\n",
    "print(\"\\n---\\n\")\n",
    "\n",
    "# Variabili categoriche\n",
    "cat_cols = df.select_dtypes(include=['object', 'category']).columns\n",
    "print(\"VARIABILI CATEGORICHE:\\n\")\n",
    "for col in cat_cols:\n",
    "    print(f\"\\n{col} (frequenze):\")\n",
    "    print(df[col].value_counts())\n",
    "\n",
    "# Istogrammi per variabili numeriche\n",
    "num_cols = df.select_dtypes(include=['number']).columns\n",
    "df[num_cols].hist(bins=30, figsize=(15, 10), layout=(len(num_cols) // 3 + 1, 3))\n",
    "plt.tight_layout()\n",
    "plt.suptitle(\"Distribuzioni delle variabili numeriche\", fontsize=16, y=1.02)\n",
    "plt.show()\n",
    "\n",
    "# Heatmap di correlazione\n",
    "plt.figure(figsize=(12, 8))\n",
    "sns.heatmap(df[num_cols].corr(), annot=True, cmap='coolwarm', fmt=\".2f\")\n",
    "plt.title(\"Matrice di correlazione\")\n",
    "plt.show()\n"
   ]
  }
 ],
 "metadata": {
  "kernelspec": {
   "display_name": "Python 3",
   "language": "python",
   "name": "python3"
  },
  "language_info": {
   "codemirror_mode": {
    "name": "ipython",
    "version": 3
   },
   "file_extension": ".py",
   "mimetype": "text/x-python",
   "name": "python",
   "nbconvert_exporter": "python",
   "pygments_lexer": "ipython3",
   "version": "3.12.1"
  }
 },
 "nbformat": 4,
 "nbformat_minor": 5
}
